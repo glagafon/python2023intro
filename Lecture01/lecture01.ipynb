{
 "cells": [
  {
   "cell_type": "markdown",
   "metadata": {},
   "source": [
    "# Лекция 1. Основы Python\n",
    "\n",
    "* Установка Python\n",
    "* Первая программа\n",
    "* Основные типы данных и простейшие выражения"
   ]
  },
  {
   "cell_type": "markdown",
   "metadata": {},
   "source": [
    "# Организация\n",
    "\n",
    "Все лекции будут располагаться по адресу: https://github.com/spam-izra/python2023intro\n",
    "\n",
    "Для тех, кто не знаком с git требуется пройти самоучитель: https://githowto.com/ru\n",
    "\n",
    "Для выполнения домашнего задания, каждый из вас должен зарегистрироваться на Github (https://github.com/) или на Bitbucket (https://bitbucket.org/).  Затем вы должны создать репозиторий, в котором вы будете хранить домашнее задание.\n",
    "\n",
    "Каждое решение должно располагаться в отдельной папке с название lectureXX, где XX - это номер лекции.\n",
    "\n",
    "Домашнее задание должно быть **исключительно** Python-файлом. Тетрадки Jupyter'a не принимаются."
   ]
  },
  {
   "cell_type": "markdown",
   "metadata": {},
   "source": [
    "# Пример\n",
    "\n",
    "Замените ниже `spam-izra` на имя вашего пользователя\n",
    "```bash\n",
    "git clone https://github.com/spam-izra/homework2023\n",
    "mkdir lecture01\n",
    "\n",
    "...\n",
    "\n",
    "git add \n",
    "git commit -m \"Lecture1 Solution\"\n",
    "git push\n",
    "```"
   ]
  },
  {
   "cell_type": "markdown",
   "metadata": {},
   "source": [
    "# Что мы будем делать?\n",
    "\n",
    "Мы изучим основы синтаксиса Python и основы построения базовых алгоритмов."
   ]
  },
  {
   "cell_type": "markdown",
   "metadata": {},
   "source": [
    "# Литература\n",
    "\n",
    "* Марк Лутц \"Изучаем Python\" (5-ое издание)\n",
    "* Официальная документация Python (https://docs.python.org/3/)"
   ]
  },
  {
   "cell_type": "markdown",
   "metadata": {},
   "source": [
    "# Установка Python\n",
    "\n",
    "Актуальными версиями Python'a является версии 3.6+. Рекомендую установить версию не ниже 3.10. Нередко еще можно встретить версию 2.7, но она официально признана устаревшей и больше не поддерживается создателем языка."
   ]
  },
  {
   "cell_type": "markdown",
   "metadata": {},
   "source": [
    "## Windows"
   ]
  },
  {
   "cell_type": "markdown",
   "metadata": {},
   "source": [
    "1. Скачать и установить с официального сайта https://www.python.org/\n",
    "<br>**Плюсы:** только Python и ничего лишнего\n",
    "<br>**Минусы:** проблемы с установкой некоторых модулей (большинство без проблем можно скачать с https://www.lfd.uci.edu/~gohlke/pythonlibs/)\n",
    "\n",
    "2. Установить Anaconda: https://www.anaconda.com/products/individual#windows\n",
    "<br>**Плюсы:** легкая установка основных пакетов, используемых в машинном обучении, переключение между различными версия Python'а\n",
    "<br>**Минусы:** все-таки содержит в себе не все доступные модули"
   ]
  },
  {
   "cell_type": "markdown",
   "metadata": {},
   "source": [
    "## Linux\n",
    "\n",
    "Просто установит через любой менджер пакетов. Например:\n",
    "\n",
    "```\n",
    "sudo apt install python3\n",
    "```"
   ]
  },
  {
   "cell_type": "markdown",
   "metadata": {},
   "source": [
    "## Когда все совсем плохо\n",
    "\n",
    "Если все очень плохо с возможностью установки Python'a, то вы можете воспользоваться Google Colab: https://colab.research.google.com/"
   ]
  },
  {
   "cell_type": "markdown",
   "metadata": {},
   "source": [
    "# Организация работы\n",
    "\n",
    "* PyCharm - https://www.jetbrains.com/ru-ru/pycharm/\n",
    "* Visual Studio Code - https://code.visualstudio.com/\n",
    "* Jupyter / JupyterLab - устанавливаются как модули Python'a или идут в комплекте Anaconda\n",
    "\n",
    "```bash\n",
    "   python3 -m pip install jupyter\n",
    "   jupyter-notebook\n",
    "```"
   ]
  },
  {
   "cell_type": "markdown",
   "metadata": {},
   "source": [
    "# Что такое программа на Python?\n",
    "\n",
    "Для начала запустим Python. Под Windows достаточно два раза кликнуть по **python.exe** в папке с установленным Pyhton'ом, а под Linux достаточно в терминале набрать python3.\n",
    "\n",
    "В появившемся окне наберите \n",
    "\n",
    "```python\n",
    "print(\"Hello World\")\n",
    "```"
   ]
  },
  {
   "cell_type": "markdown",
   "metadata": {},
   "source": [
    "Поздравляю, теперь вы немного Python-программист, так как это была простейшая программа на Python'е.\n",
    "\n",
    "> `print(arg1, arg2, ..., argN) -> None` - функция, которая выводит в стандартный поток вывода (терминал/консоль) текстовое представление аргументов через пробельный символ и возвращает в результате своей работы Ничего."
   ]
  },
  {
   "cell_type": "markdown",
   "metadata": {},
   "source": [
    "# Интерактивный сеанс\n",
    "\n",
    "То, что мы сейчас увидели называемся \"Интерактивным сеансом\". Особенность данного режима заключается в том, что весь код, который мы в нем набираем выполняется сразу же после нажатия Enter.\n",
    "\n",
    "Более того, в данном сеансе работают подсказки, которые выводят результат последнего выражения.\n",
    "\n",
    "Все, что создается в одном сеансе, существует до закрытия этого сеанса!"
   ]
  },
  {
   "cell_type": "code",
   "execution_count": 29,
   "metadata": {},
   "outputs": [
    {
     "name": "stdout",
     "output_type": "stream",
     "text": [
      "hello world\n"
     ]
    }
   ],
   "source": [
    "print(\"hello world\")"
   ]
  },
  {
   "cell_type": "markdown",
   "metadata": {},
   "source": [
    "# Выполнение файлов\n",
    "\n",
    "Интерактивный сеанс не очень хорошо подходит для сложных программ. В этом случае нужно создать файл \"hello.py\" с содержимым \n",
    "\n",
    "```python\n",
    "print(\"hello world\")\n",
    "```\n",
    "\n",
    "Затем в терминале или командной строке выполнить в папке с вышесозданным файлом команду для Windows (либо если все настроенно, то можно просто два раза кликнуть на файл, но в этом случае нужно добавить `input()` в конец файла, чтобы окно закрывалось не моментально )\n",
    "```\n",
    "python.exe hello.py\n",
    "```\n",
    "для Linux\n",
    "```\n",
    "python3 hello.py\n",
    "```\n",
    "\n",
    "Под Linux можно придать скриптам Python'a вид нормальной программы, если добавить в первую строчку файла \n",
    "```\n",
    "#!/usr/bin/env python3\n",
    "```\n",
    "и разрешить запуск файла\n",
    "```\n",
    "chmod +x hello.py\n",
    "```\n",
    "теперь файл можно запускать, как обычную программу."
   ]
  },
  {
   "cell_type": "markdown",
   "metadata": {},
   "source": [
    "# Как работает Python\n",
    "\n",
    "Если кратко, то Python выполняется на специальной виртуальной машине (PVM), которая выполняет байт-код, в который преобразуется написанный вами код. Подобный подход используется Java. Основное преимущество такого подхода в том, что ваши программы не зависят от платформы, на которой вы их запускаете, главное, чтобы там была виртуальная машина.\n",
    "\n",
    "Это отличается от обычных программ, которые компилируются в язык понятный процессору."
   ]
  },
  {
   "cell_type": "markdown",
   "metadata": {},
   "source": [
    "# Компилятор Python на Python\n",
    "\n",
    "В любой вашей программе Python можно подгрузить любую текстовую информацию и выполнить как программу Python\n",
    "\n",
    "> `exec(arg: str) -> None` - выполняет текстовое выражение, как программу Python"
   ]
  },
  {
   "cell_type": "code",
   "execution_count": 3,
   "metadata": {},
   "outputs": [
    {
     "name": "stdout",
     "output_type": "stream",
     "text": [
      "hello world\n"
     ]
    }
   ],
   "source": [
    "exec(\"print('hello world')\")"
   ]
  },
  {
   "cell_type": "markdown",
   "metadata": {},
   "source": [
    "# Встроенная справка\n",
    "\n",
    "Python позволяет получить справку с помощью самого себя\n",
    "\n",
    "> `help()` - выводит справку по объекту"
   ]
  },
  {
   "cell_type": "code",
   "execution_count": 8,
   "metadata": {},
   "outputs": [
    {
     "name": "stdout",
     "output_type": "stream",
     "text": [
      "Help on built-in function print in module builtins:\n",
      "\n",
      "print(...)\n",
      "    print(value, ..., sep=' ', end='\\n', file=sys.stdout, flush=False)\n",
      "    \n",
      "    Prints the values to a stream, or to sys.stdout by default.\n",
      "    Optional keyword arguments:\n",
      "    file:  a file-like object (stream); defaults to the current sys.stdout.\n",
      "    sep:   string inserted between values, default a space.\n",
      "    end:   string appended after the last value, default a newline.\n",
      "    flush: whether to forcibly flush the stream.\n",
      "\n"
     ]
    }
   ],
   "source": [
    "help(print)"
   ]
  },
  {
   "cell_type": "markdown",
   "metadata": {},
   "source": [
    "В Jupyter можно получить справку, просто добавив ? к интересуемому объекту"
   ]
  },
  {
   "cell_type": "code",
   "execution_count": 9,
   "metadata": {},
   "outputs": [
    {
     "data": {
      "text/plain": [
       "\u001b[0;31mDocstring:\u001b[0m\n",
       "print(value, ..., sep=' ', end='\\n', file=sys.stdout, flush=False)\n",
       "\n",
       "Prints the values to a stream, or to sys.stdout by default.\n",
       "Optional keyword arguments:\n",
       "file:  a file-like object (stream); defaults to the current sys.stdout.\n",
       "sep:   string inserted between values, default a space.\n",
       "end:   string appended after the last value, default a newline.\n",
       "flush: whether to forcibly flush the stream.\n",
       "\u001b[0;31mType:\u001b[0m      builtin_function_or_method\n"
      ]
     },
     "metadata": {},
     "output_type": "display_data"
    }
   ],
   "source": [
    "print?"
   ]
  },
  {
   "cell_type": "markdown",
   "metadata": {},
   "source": [
    "# Начало\n",
    "\n",
    "Чтобы научиться бегать, нужно сначала научиться ходить. Так и нам, чтобы писать полезные программы, нужно изучить из чего они должны состоять.\n",
    "\n",
    "Самым базовым кирпичиком программы будут переменные, они позволят нам оперировать данными."
   ]
  },
  {
   "cell_type": "markdown",
   "metadata": {},
   "source": [
    "# Переменные\n",
    "\n",
    "Переменные в Python - это некая ссылка на данные и это отличает их от некоторых других языков программирования, так как они могут указывать на данные любого рода. Каждый раз, когда Python видит переменную в выражении, он заменяет её объектом, на который она ссылается.\n",
    "\n",
    "Создать переменную несложно, достаточно ей просто присвоить любое значение"
   ]
  },
  {
   "cell_type": "code",
   "execution_count": 10,
   "metadata": {},
   "outputs": [
    {
     "name": "stdout",
     "output_type": "stream",
     "text": [
      "foo\n",
      "7\n"
     ]
    }
   ],
   "source": [
    "a = 3\n",
    "a = 7\n",
    "b = a\n",
    "a = \"foo\"\n",
    "\n",
    "print(a)\n",
    "print(b)"
   ]
  },
  {
   "cell_type": "markdown",
   "metadata": {},
   "source": [
    "Можно и так"
   ]
  },
  {
   "cell_type": "code",
   "execution_count": 9,
   "metadata": {},
   "outputs": [
    {
     "name": "stdout",
     "output_type": "stream",
     "text": [
      "4404898160 4404898160\n"
     ]
    }
   ],
   "source": [
    "a = 3\n",
    "b = a\n",
    "\n",
    "print(id(a), id(b))"
   ]
  },
  {
   "cell_type": "markdown",
   "metadata": {},
   "source": [
    "> `id(arg: object) -> int` - возвращает уникальный идентификатор объекта\n",
    "\n",
    "Выше мы видим, что мы создали две различные переменные, но они ссылаются на один и тот же объект."
   ]
  },
  {
   "cell_type": "code",
   "execution_count": 10,
   "metadata": {},
   "outputs": [
    {
     "name": "stdout",
     "output_type": "stream",
     "text": [
      "3\n"
     ]
    }
   ],
   "source": [
    "a = 3\n",
    "b = a\n",
    "a = 5\n",
    "\n",
    "print(b)"
   ]
  },
  {
   "cell_type": "code",
   "execution_count": 11,
   "metadata": {},
   "outputs": [],
   "source": [
    "h = None\n",
    "h"
   ]
  },
  {
   "cell_type": "code",
   "execution_count": 12,
   "metadata": {},
   "outputs": [
    {
     "name": "stdout",
     "output_type": "stream",
     "text": [
      "5 5\n"
     ]
    }
   ],
   "source": [
    "a = b = 5\n",
    "print(a, b)"
   ]
  },
  {
   "cell_type": "markdown",
   "metadata": {},
   "source": [
    "Есть специальный тип присваивания `:=` (walrus), появившийся c 3.8. Он имеет быть место исключительно только внутри выражений. Его смысл заключает в том, чтобы привязать переменную к новому объекту и в качестве результата выражения вернуть этот объект."
   ]
  },
  {
   "cell_type": "code",
   "execution_count": 10,
   "metadata": {},
   "outputs": [
    {
     "name": "stdout",
     "output_type": "stream",
     "text": [
      "5\n",
      "5\n",
      "7 9\n"
     ]
    }
   ],
   "source": [
    "print(a := 5)\n",
    "print(a)\n",
    "\n",
    "b = 2 + (a := 7)\n",
    "print(a, b)"
   ]
  },
  {
   "cell_type": "markdown",
   "metadata": {},
   "source": [
    "# Основные типы данных\n",
    "\n",
    "\n",
    "Тип данных | Литерал/Создание\n",
    "--- | --- \n",
    "числа | 1, 3.14, 2+3j, int(), float(), complex() и т.д.\n",
    "строки | 'foo', \"spam\", b'\\x00', str()\n",
    "кортежи | (1, 2), tuple(\"foo\")\n",
    "списки | [1, 2], list(range(4))\n",
    "словари | {1: 2}, dict()\n",
    "множества | set()\n",
    "файлы | open(\"hi.txt\"), open(\"data.bin\", \"wb\")\n",
    "прочие | True, False, None, bool()\n",
    "специальные | классы, модули, функции и другие"
   ]
  },
  {
   "cell_type": "markdown",
   "metadata": {},
   "source": [
    "> **Литерал** - это выражение, которое создает объект."
   ]
  },
  {
   "cell_type": "code",
   "execution_count": 20,
   "metadata": {},
   "outputs": [
    {
     "data": {
      "text/plain": [
       "str"
      ]
     },
     "execution_count": 20,
     "metadata": {},
     "output_type": "execute_result"
    }
   ],
   "source": [
    "a = 'foo'\n",
    "type(a)"
   ]
  },
  {
   "cell_type": "markdown",
   "metadata": {},
   "source": [
    "> `type(arg: object) -> object` - возвращает тип объекта, если вы забыли, какой тип там хранится."
   ]
  },
  {
   "cell_type": "code",
   "execution_count": 15,
   "metadata": {},
   "outputs": [
    {
     "data": {
      "text/plain": [
       "builtin_function_or_method"
      ]
     },
     "execution_count": 15,
     "metadata": {},
     "output_type": "execute_result"
    }
   ],
   "source": [
    "type(print)"
   ]
  },
  {
   "cell_type": "markdown",
   "metadata": {},
   "source": [
    "# Числа"
   ]
  },
  {
   "cell_type": "markdown",
   "metadata": {},
   "source": [
    "Числа - это простейший **неизменяемый** тип данных. Бывают\n",
    "* целыми (1, 2, -1)\n",
    "* с плавающей запятой (1.2, 4E3, 2e-2)\n",
    "* комплексные (1 + 1j)\n",
    "\n",
    "Дополнительные литералы для целых чисел\n",
    "* 0b10 - двоичный литерал\n",
    "* 0o70 - восьмиричный литерал\n",
    "* 0xFA - шестнадцатиричный литерал\n",
    "* True для 1, False для 0 (это специальный булевый тип)\n",
    "\n",
    "\n",
    "Интересной особенностью целых числе в Python является то, что они не ограничены. Python поддерживает, так называемую, \"длинную арифметику\". Так что найти факториал числа 100 в Python не самая сложная задача."
   ]
  },
  {
   "cell_type": "code",
   "execution_count": 27,
   "metadata": {},
   "outputs": [
    {
     "data": {
      "text/plain": [
       "93326215443944152681699238856266700490715968264381621468592963895217599993229915608941463976156518286253697920827223758251185210916864000000000000000000000000"
      ]
     },
     "execution_count": 27,
     "metadata": {},
     "output_type": "execute_result"
    }
   ],
   "source": [
    "from functools import reduce\n",
    "\n",
    "reduce(lambda x, y: x * y, range(1, 100 + 1), 1)"
   ]
  },
  {
   "cell_type": "markdown",
   "metadata": {},
   "source": [
    "Помимо литералов есть очень специфические объекты-конструкторы, которые позволяют создать объект нужного типа\n",
    "\n",
    "> `int(arg: object = None, base: int = 10) -> int` - конструктор целых чисел, пытается создать целое число из своего аргумента. Если это невозможно сделать, то создается исключение\n",
    "\n",
    "> `float(arg: object = None) -> float` - конструктор вещественных чисел, пытается создать целое число из своего аргумента. Если это невозможно сделать, то создается исключение"
   ]
  },
  {
   "cell_type": "code",
   "execution_count": 32,
   "metadata": {},
   "outputs": [
    {
     "data": {
      "text/plain": [
       "(5, 5, 255, 255, 0)"
      ]
     },
     "execution_count": 32,
     "metadata": {},
     "output_type": "execute_result"
    }
   ],
   "source": [
    "int(5.19), int(\"5\"), int(\"0xFF\", 16), int(\"FF\", 16), int()"
   ]
  },
  {
   "cell_type": "code",
   "execution_count": 33,
   "metadata": {},
   "outputs": [
    {
     "data": {
      "text/plain": [
       "(5.0, 3.14e-10, 0.0)"
      ]
     },
     "execution_count": 33,
     "metadata": {},
     "output_type": "execute_result"
    }
   ],
   "source": [
    "float(5), float(\"3.14\"), float()"
   ]
  },
  {
   "cell_type": "code",
   "execution_count": 11,
   "metadata": {},
   "outputs": [
    {
     "ename": "ValueError",
     "evalue": "invalid literal for int() with base 10: 'hi'",
     "output_type": "error",
     "traceback": [
      "\u001b[1;31m---------------------------------------------------------------------------\u001b[0m",
      "\u001b[1;31mValueError\u001b[0m                                Traceback (most recent call last)",
      "Cell \u001b[1;32mIn[11], line 4\u001b[0m\n\u001b[0;32m      1\u001b[0m \u001b[38;5;66;03m# Python не знает, как преобразовать это в число\u001b[39;00m\n\u001b[0;32m      2\u001b[0m \u001b[38;5;66;03m# в этом случае мы получим исключение\u001b[39;00m\n\u001b[1;32m----> 4\u001b[0m \u001b[38;5;28;43mint\u001b[39;49m\u001b[43m(\u001b[49m\u001b[38;5;124;43m\"\u001b[39;49m\u001b[38;5;124;43mhi\u001b[39;49m\u001b[38;5;124;43m\"\u001b[39;49m\u001b[43m)\u001b[49m\n",
      "\u001b[1;31mValueError\u001b[0m: invalid literal for int() with base 10: 'hi'"
     ]
    }
   ],
   "source": [
    "# Python не знает, как преобразовать это в число\n",
    "# в этом случае мы получим исключение\n",
    "\n",
    "int(\"hi\")"
   ]
  },
  {
   "cell_type": "markdown",
   "metadata": {},
   "source": [
    "## Операции над числами\n",
    "\n",
    "Числа поддерживает всем знакомые операции\n",
    "* умножение *\n",
    "* истинное деление /\n",
    "* целочисленное деление //\n",
    "* остаток от деления %\n",
    "* возведение в степень **\n",
    "* битовые операции &, |, <<, >>, ^, ~"
   ]
  },
  {
   "cell_type": "code",
   "execution_count": 14,
   "metadata": {},
   "outputs": [
    {
     "name": "stdout",
     "output_type": "stream",
     "text": [
      "a / b  = 2.5\n",
      "a // b = 2\n",
      "a % b  = 1\n",
      "a ** b  = 25\n",
      "a << b  = 20\n"
     ]
    }
   ],
   "source": [
    "a = 5 \n",
    "b = 2\n",
    "\n",
    "print(\"a / b  =\", a / b)\n",
    "print(\"a // b =\", a // b)\n",
    "print(\"a % b  =\", a % b)\n",
    "print(\"a ** b  =\", a ** b)\n",
    "print(\"a << b  =\", a << b)"
   ]
  },
  {
   "cell_type": "markdown",
   "metadata": {},
   "source": [
    "У каждой операции есть приоритет выполнения (https://docs.python.org/3/reference/expressions.html#operator-precedence). В целом они располагаются достаточно знакомым вам образом: умножение/деление в начале, потом сложение/вычитание, потом логические операции.\n",
    "\n",
    "Круглые скобки позволяют группировать операции. Выражение в скобках обладает всегда более высоким приоритетом. Все как учили в школе.\n",
    "\n",
    "Запоминать это не обязательно, каждый раз, когда вы сомневаетесь в том, какая операция будет первой - вы можете определить порядок вычисления с помощью скобок. "
   ]
  },
  {
   "cell_type": "code",
   "execution_count": 2,
   "metadata": {},
   "outputs": [
    {
     "data": {
      "text/plain": [
       "8"
      ]
     },
     "execution_count": 2,
     "metadata": {},
     "output_type": "execute_result"
    }
   ],
   "source": [
    "2 + 3 * 2"
   ]
  },
  {
   "cell_type": "code",
   "execution_count": 3,
   "metadata": {},
   "outputs": [
    {
     "data": {
      "text/plain": [
       "10"
      ]
     },
     "execution_count": 3,
     "metadata": {},
     "output_type": "execute_result"
    }
   ],
   "source": [
    "(2 + 3) * 2"
   ]
  },
  {
   "cell_type": "markdown",
   "metadata": {},
   "source": [
    "Вы можете объединять числа в любые выражения. Вам нередко будет встречаться такая конструкция\n",
    "\n",
    "```Python\n",
    "a = a + 5\n",
    "```\n",
    "\n",
    "Писать это каждый раз утомительно, поэтому можно воспользоваться _синтаксическим сахаром_ и записать это кратко\n",
    "```Python\n",
    "a += 5\n",
    "```"
   ]
  },
  {
   "cell_type": "code",
   "execution_count": 35,
   "metadata": {},
   "outputs": [
    {
     "name": "stdout",
     "output_type": "stream",
     "text": [
      "4376353136 4376353104\n",
      "4376353200 4376353104\n"
     ]
    }
   ],
   "source": [
    "# Проверим неизменяемость чисел\n",
    "\n",
    "a = 3\n",
    "b = 2\n",
    "print(id(a), id(b))\n",
    "\n",
    "a += b\n",
    "print(id(a), id(b))"
   ]
  },
  {
   "cell_type": "markdown",
   "metadata": {},
   "source": [
    "Выше мы видим подтверждение того, что числа - это неизменяемые величины"
   ]
  },
  {
   "cell_type": "markdown",
   "metadata": {},
   "source": [
    "## Сравнение \n",
    "\n",
    "Числа поддерживают операции сравнения, которые возвращают булевый тип: True (истинна) и False (ложь)\n",
    "\n",
    "* \\>, < - больше и меньше\n",
    "* \\>=, <=  - больше или равно, меньше или равно\n",
    "* != - не равно\n",
    "* == - равно\n",
    "\n",
    "Операции сравнения можно сцеплять друг с другом. Выражение `1 < 2 < 3` эквивалентно `1 < 2 and 2 < 3`."
   ]
  },
  {
   "cell_type": "code",
   "execution_count": 53,
   "metadata": {},
   "outputs": [
    {
     "data": {
      "text/plain": [
       "True"
      ]
     },
     "execution_count": 53,
     "metadata": {},
     "output_type": "execute_result"
    }
   ],
   "source": [
    "a = 4\n",
    "b = 5\n",
    "\n",
    "a < b < 10"
   ]
  },
  {
   "cell_type": "markdown",
   "metadata": {},
   "source": [
    "# Дополнительные функции \n",
    "\n",
    "Python поддерживает некоторое количество встроенных функций над числами: преобразование к строке показывающей шестнадцетиричное представление числа `hex()`, двоичное представление - `bin()`, преобразовать в строку `str()`"
   ]
  },
  {
   "cell_type": "code",
   "execution_count": 14,
   "metadata": {},
   "outputs": [
    {
     "data": {
      "text/plain": [
       "('0xf', '0b1111', '0o17', '15')"
      ]
     },
     "execution_count": 14,
     "metadata": {},
     "output_type": "execute_result"
    }
   ],
   "source": [
    "hex(15), bin(15), oct(15), str(15)"
   ]
  },
  {
   "cell_type": "markdown",
   "metadata": {},
   "source": [
    "## Пара слов о repr() и str()\n",
    "\n",
    "> `str(arg: object) -> str` - позволяет получить текстовое представление любого объекта\n",
    "\n",
    "> `repr(arg: object) -> str` - позволяет получить текстовое представление для интерактивного сеанса"
   ]
  },
  {
   "cell_type": "code",
   "execution_count": 58,
   "metadata": {},
   "outputs": [
    {
     "name": "stdout",
     "output_type": "stream",
     "text": [
      "str(a) = foo\n",
      "repr(a) = 'foo'\n"
     ]
    }
   ],
   "source": [
    "a = \"foo\"\n",
    "\n",
    "print(\"str(a) =\", str(a))\n",
    "print(\"repr(a) =\", repr(a))"
   ]
  },
  {
   "cell_type": "markdown",
   "metadata": {},
   "source": [
    "# Модули\n",
    "\n",
    "Представленных операций не хватает на все случаи жизни, например здесь нет извлечения квадратного корня, тригонометрических операций и другого. Все это можно получить, подключив к вашей программе дополнительный модуль. \n",
    "\n",
    "Мы не будем обсуждать сейчас, что такое модули. Рассматривайте это как черный ящик, в котором храняться полезные для вас функции, переменные, классы и прочее.\n",
    "\n",
    "\n",
    "Добавить модуль к вашей программе не сложно, достаточно просто добавить строку \n",
    "```Python\n",
    "import <название модуля>\n",
    "```"
   ]
  },
  {
   "cell_type": "markdown",
   "metadata": {},
   "source": [
    "Python содержит в себе достаточно большое число встроенных модулей: https://docs.python.org/3/library/index.html\n",
    "\n",
    "Познакомимся с первым полезным для нас модулем - **math**. Данный модуль содержит множество математических операций."
   ]
  },
  {
   "cell_type": "code",
   "execution_count": 65,
   "metadata": {},
   "outputs": [],
   "source": [
    "# https://docs.python.org/3/library/math.html\n",
    "\n",
    "import math"
   ]
  },
  {
   "cell_type": "markdown",
   "metadata": {},
   "source": [
    "Модули являются объектами, а значит мы можем получить по ним справку"
   ]
  },
  {
   "cell_type": "code",
   "execution_count": 66,
   "metadata": {
    "scrolled": true
   },
   "outputs": [
    {
     "name": "stdout",
     "output_type": "stream",
     "text": [
      "Help on built-in module math:\n",
      "\n",
      "NAME\n",
      "    math\n",
      "\n",
      "DESCRIPTION\n",
      "    This module provides access to the mathematical functions\n",
      "    defined by the C standard.\n",
      "\n",
      "FUNCTIONS\n",
      "    acos(x, /)\n",
      "        Return the arc cosine (measured in radians) of x.\n",
      "        \n",
      "        The result is between 0 and pi.\n",
      "    \n",
      "    acosh(x, /)\n",
      "        Return the inverse hyperbolic cosine of x.\n",
      "    \n",
      "    asin(x, /)\n",
      "        Return the arc sine (measured in radians) of x.\n",
      "        \n",
      "        The result is between -pi/2 and pi/2.\n",
      "    \n",
      "    asinh(x, /)\n",
      "        Return the inverse hyperbolic sine of x.\n",
      "    \n",
      "    atan(x, /)\n",
      "        Return the arc tangent (measured in radians) of x.\n",
      "        \n",
      "        The result is between -pi/2 and pi/2.\n",
      "    \n",
      "    atan2(y, x, /)\n",
      "        Return the arc tangent (measured in radians) of y/x.\n",
      "        \n",
      "        Unlike atan(y/x), the signs of both x and y are considered.\n",
      "    \n",
      "    atanh(x, /)\n",
      "        Return the inverse hyperbolic tangent of x.\n",
      "    \n",
      "    ceil(x, /)\n",
      "        Return the ceiling of x as an Integral.\n",
      "        \n",
      "        This is the smallest integer >= x.\n",
      "    \n",
      "    comb(n, k, /)\n",
      "        Number of ways to choose k items from n items without repetition and without order.\n",
      "        \n",
      "        Evaluates to n! / (k! * (n - k)!) when k <= n and evaluates\n",
      "        to zero when k > n.\n",
      "        \n",
      "        Also called the binomial coefficient because it is equivalent\n",
      "        to the coefficient of k-th term in polynomial expansion of the\n",
      "        expression (1 + x)**n.\n",
      "        \n",
      "        Raises TypeError if either of the arguments are not integers.\n",
      "        Raises ValueError if either of the arguments are negative.\n",
      "    \n",
      "    copysign(x, y, /)\n",
      "        Return a float with the magnitude (absolute value) of x but the sign of y.\n",
      "        \n",
      "        On platforms that support signed zeros, copysign(1.0, -0.0)\n",
      "        returns -1.0.\n",
      "    \n",
      "    cos(x, /)\n",
      "        Return the cosine of x (measured in radians).\n",
      "    \n",
      "    cosh(x, /)\n",
      "        Return the hyperbolic cosine of x.\n",
      "    \n",
      "    degrees(x, /)\n",
      "        Convert angle x from radians to degrees.\n",
      "    \n",
      "    dist(p, q, /)\n",
      "        Return the Euclidean distance between two points p and q.\n",
      "        \n",
      "        The points should be specified as sequences (or iterables) of\n",
      "        coordinates.  Both inputs must have the same dimension.\n",
      "        \n",
      "        Roughly equivalent to:\n",
      "            sqrt(sum((px - qx) ** 2.0 for px, qx in zip(p, q)))\n",
      "    \n",
      "    erf(x, /)\n",
      "        Error function at x.\n",
      "    \n",
      "    erfc(x, /)\n",
      "        Complementary error function at x.\n",
      "    \n",
      "    exp(x, /)\n",
      "        Return e raised to the power of x.\n",
      "    \n",
      "    expm1(x, /)\n",
      "        Return exp(x)-1.\n",
      "        \n",
      "        This function avoids the loss of precision involved in the direct evaluation of exp(x)-1 for small x.\n",
      "    \n",
      "    fabs(x, /)\n",
      "        Return the absolute value of the float x.\n",
      "    \n",
      "    factorial(x, /)\n",
      "        Find x!.\n",
      "        \n",
      "        Raise a ValueError if x is negative or non-integral.\n",
      "    \n",
      "    floor(x, /)\n",
      "        Return the floor of x as an Integral.\n",
      "        \n",
      "        This is the largest integer <= x.\n",
      "    \n",
      "    fmod(x, y, /)\n",
      "        Return fmod(x, y), according to platform C.\n",
      "        \n",
      "        x % y may differ.\n",
      "    \n",
      "    frexp(x, /)\n",
      "        Return the mantissa and exponent of x, as pair (m, e).\n",
      "        \n",
      "        m is a float and e is an int, such that x = m * 2.**e.\n",
      "        If x is 0, m and e are both 0.  Else 0.5 <= abs(m) < 1.0.\n",
      "    \n",
      "    fsum(seq, /)\n",
      "        Return an accurate floating point sum of values in the iterable seq.\n",
      "        \n",
      "        Assumes IEEE-754 floating point arithmetic.\n",
      "    \n",
      "    gamma(x, /)\n",
      "        Gamma function at x.\n",
      "    \n",
      "    gcd(*integers)\n",
      "        Greatest Common Divisor.\n",
      "    \n",
      "    hypot(...)\n",
      "        hypot(*coordinates) -> value\n",
      "        \n",
      "        Multidimensional Euclidean distance from the origin to a point.\n",
      "        \n",
      "        Roughly equivalent to:\n",
      "            sqrt(sum(x**2 for x in coordinates))\n",
      "        \n",
      "        For a two dimensional point (x, y), gives the hypotenuse\n",
      "        using the Pythagorean theorem:  sqrt(x*x + y*y).\n",
      "        \n",
      "        For example, the hypotenuse of a 3/4/5 right triangle is:\n",
      "        \n",
      "            >>> hypot(3.0, 4.0)\n",
      "            5.0\n",
      "    \n",
      "    isclose(a, b, *, rel_tol=1e-09, abs_tol=0.0)\n",
      "        Determine whether two floating point numbers are close in value.\n",
      "        \n",
      "          rel_tol\n",
      "            maximum difference for being considered \"close\", relative to the\n",
      "            magnitude of the input values\n",
      "          abs_tol\n",
      "            maximum difference for being considered \"close\", regardless of the\n",
      "            magnitude of the input values\n",
      "        \n",
      "        Return True if a is close in value to b, and False otherwise.\n",
      "        \n",
      "        For the values to be considered close, the difference between them\n",
      "        must be smaller than at least one of the tolerances.\n",
      "        \n",
      "        -inf, inf and NaN behave similarly to the IEEE 754 Standard.  That\n",
      "        is, NaN is not close to anything, even itself.  inf and -inf are\n",
      "        only close to themselves.\n",
      "    \n",
      "    isfinite(x, /)\n",
      "        Return True if x is neither an infinity nor a NaN, and False otherwise.\n",
      "    \n",
      "    isinf(x, /)\n",
      "        Return True if x is a positive or negative infinity, and False otherwise.\n",
      "    \n",
      "    isnan(x, /)\n",
      "        Return True if x is a NaN (not a number), and False otherwise.\n",
      "    \n",
      "    isqrt(n, /)\n",
      "        Return the integer part of the square root of the input.\n",
      "    \n",
      "    lcm(*integers)\n",
      "        Least Common Multiple.\n",
      "    \n",
      "    ldexp(x, i, /)\n",
      "        Return x * (2**i).\n",
      "        \n",
      "        This is essentially the inverse of frexp().\n",
      "    \n",
      "    lgamma(x, /)\n",
      "        Natural logarithm of absolute value of Gamma function at x.\n",
      "    \n",
      "    log(...)\n",
      "        log(x, [base=math.e])\n",
      "        Return the logarithm of x to the given base.\n",
      "        \n",
      "        If the base not specified, returns the natural logarithm (base e) of x.\n",
      "    \n",
      "    log10(x, /)\n",
      "        Return the base 10 logarithm of x.\n",
      "    \n",
      "    log1p(x, /)\n",
      "        Return the natural logarithm of 1+x (base e).\n",
      "        \n",
      "        The result is computed in a way which is accurate for x near zero.\n",
      "    \n",
      "    log2(x, /)\n",
      "        Return the base 2 logarithm of x.\n",
      "    \n",
      "    modf(x, /)\n",
      "        Return the fractional and integer parts of x.\n",
      "        \n",
      "        Both results carry the sign of x and are floats.\n",
      "    \n",
      "    nextafter(x, y, /)\n",
      "        Return the next floating-point value after x towards y.\n",
      "    \n",
      "    perm(n, k=None, /)\n",
      "        Number of ways to choose k items from n items without repetition and with order.\n",
      "        \n",
      "        Evaluates to n! / (n - k)! when k <= n and evaluates\n",
      "        to zero when k > n.\n",
      "        \n",
      "        If k is not specified or is None, then k defaults to n\n",
      "        and the function returns n!.\n",
      "        \n",
      "        Raises TypeError if either of the arguments are not integers.\n",
      "        Raises ValueError if either of the arguments are negative.\n",
      "    \n",
      "    pow(x, y, /)\n",
      "        Return x**y (x to the power of y).\n",
      "    \n",
      "    prod(iterable, /, *, start=1)\n",
      "        Calculate the product of all the elements in the input iterable.\n",
      "        \n",
      "        The default start value for the product is 1.\n",
      "        \n",
      "        When the iterable is empty, return the start value.  This function is\n",
      "        intended specifically for use with numeric values and may reject\n",
      "        non-numeric types.\n",
      "    \n",
      "    radians(x, /)\n",
      "        Convert angle x from degrees to radians.\n",
      "    \n",
      "    remainder(x, y, /)\n",
      "        Difference between x and the closest integer multiple of y.\n",
      "        \n",
      "        Return x - n*y where n*y is the closest integer multiple of y.\n",
      "        In the case where x is exactly halfway between two multiples of\n",
      "        y, the nearest even value of n is used. The result is always exact.\n",
      "    \n",
      "    sin(x, /)\n",
      "        Return the sine of x (measured in radians).\n",
      "    \n",
      "    sinh(x, /)\n",
      "        Return the hyperbolic sine of x.\n",
      "    \n",
      "    sqrt(x, /)\n",
      "        Return the square root of x.\n",
      "    \n",
      "    tan(x, /)\n",
      "        Return the tangent of x (measured in radians).\n",
      "    \n",
      "    tanh(x, /)\n",
      "        Return the hyperbolic tangent of x.\n",
      "    \n",
      "    trunc(x, /)\n",
      "        Truncates the Real x to the nearest Integral toward 0.\n",
      "        \n",
      "        Uses the __trunc__ magic method.\n",
      "    \n",
      "    ulp(x, /)\n",
      "        Return the value of the least significant bit of the float x.\n",
      "\n",
      "DATA\n",
      "    e = 2.718281828459045\n",
      "    inf = inf\n",
      "    nan = nan\n",
      "    pi = 3.141592653589793\n",
      "    tau = 6.283185307179586\n",
      "\n",
      "FILE\n",
      "    (built-in)\n",
      "\n",
      "\n"
     ]
    }
   ],
   "source": [
    "help(math)"
   ]
  },
  {
   "cell_type": "markdown",
   "metadata": {},
   "source": [
    "Теперь нам доступны дополнительные операции над числами"
   ]
  },
  {
   "cell_type": "code",
   "execution_count": 69,
   "metadata": {},
   "outputs": [
    {
     "data": {
      "text/plain": [
       "1.4142135623730951"
      ]
     },
     "execution_count": 69,
     "metadata": {},
     "output_type": "execute_result"
    }
   ],
   "source": [
    "math.sqrt(2)"
   ]
  },
  {
   "cell_type": "markdown",
   "metadata": {},
   "source": [
    "Также вместо импорта модуля целиком, из него можно достать только некоторые функции с помощью `from`\n",
    "\n",
    "```Python\n",
    "from math import sqrt\n",
    "```\n",
    "\n",
    "Теперь, чтобы извлечь квадратный корень не нужно писать `math`.\n",
    "\n",
    "Если нужны все функции из модуля, то можно сделать так\n",
    "```Python\n",
    "from math import *\n",
    "```"
   ]
  },
  {
   "cell_type": "code",
   "execution_count": 72,
   "metadata": {},
   "outputs": [
    {
     "data": {
      "text/plain": [
       "1.4142135623730951"
      ]
     },
     "execution_count": 72,
     "metadata": {},
     "output_type": "execute_result"
    }
   ],
   "source": [
    "from math import *\n",
    "\n",
    "sqrt(2)"
   ]
  },
  {
   "cell_type": "code",
   "execution_count": 73,
   "metadata": {},
   "outputs": [
    {
     "data": {
      "text/plain": [
       "1.4142135623730951"
      ]
     },
     "execution_count": 73,
     "metadata": {},
     "output_type": "execute_result"
    }
   ],
   "source": [
    "from math import sqrt\n",
    "\n",
    "sqrt(2)"
   ]
  },
  {
   "cell_type": "markdown",
   "metadata": {},
   "source": [
    "> **ОСТОРОЖНО!**\n",
    "> Использовать `from` нужно внимательно и со знанием дела, в противном случае вы можете получить крайне сложно обнаружимые ошибки связанные с тем, что у вас может произойти перезапись переменных либо модуля, либо вашей программы."
   ]
  },
  {
   "cell_type": "markdown",
   "metadata": {},
   "source": [
    "И для самых ленивых есть возможность создания сокращений к именам модулей\n",
    "\n",
    "```Python\n",
    "import math as m\n",
    "```"
   ]
  },
  {
   "cell_type": "code",
   "execution_count": 25,
   "metadata": {},
   "outputs": [
    {
     "name": "stdout",
     "output_type": "stream",
     "text": [
      "1.4142135623730951\n"
     ]
    }
   ],
   "source": [
    "import math as m\n",
    "\n",
    "print(m.sqrt(2))"
   ]
  },
  {
   "cell_type": "markdown",
   "metadata": {},
   "source": [
    "# Добавим интерактива\n",
    "\n",
    "И так, мы умеем делать с числами почти все, что угодно, но писать программу, которая умеет делать только одно статичное вычисление не очень интересно, ведь если нужно посчитать что-то другое, то нам придется переписывать программу.\n",
    "\n",
    "Гораздо эффективнее добавить параметр в нашу программу, который позволяет управлять ее поведение. Через этот параметр она будет взаимодействовать с пользователем.\n",
    "\n",
    "Здесь нам на помощь приходит функция `input()`\n",
    "\n",
    "> `input(arg: str = \"\") -> str` - останавливает выполнение программы для того, чтобы пользователь мог ввести данные. Возвращает всегда строку. "
   ]
  },
  {
   "cell_type": "code",
   "execution_count": 76,
   "metadata": {},
   "outputs": [
    {
     "name": "stdout",
     "output_type": "stream",
     "text": [
      "Enter a number: \n"
     ]
    },
    {
     "name": "stdin",
     "output_type": "stream",
     "text": [
      " 5\n"
     ]
    },
    {
     "name": "stdout",
     "output_type": "stream",
     "text": [
      "a = 5\n"
     ]
    }
   ],
   "source": [
    "print(\"Enter a number: \")\n",
    "a = input()\n",
    "print(\"a =\", a)"
   ]
  },
  {
   "cell_type": "markdown",
   "metadata": {},
   "source": [
    "А можно передать сообщение для вывода в качестве первого аргумента"
   ]
  },
  {
   "cell_type": "code",
   "execution_count": 77,
   "metadata": {},
   "outputs": [
    {
     "name": "stdin",
     "output_type": "stream",
     "text": [
      "Enter a number:  sdfsdf\n"
     ]
    },
    {
     "name": "stdout",
     "output_type": "stream",
     "text": [
      "a = <class 'str'>\n"
     ]
    }
   ],
   "source": [
    "a = input(\"Enter a number: \")\n",
    "print(\"a =\", type(a))"
   ]
  },
  {
   "cell_type": "markdown",
   "metadata": {},
   "source": [
    "# Преобразование строки в число\n",
    "\n",
    "Это сделать достаточно просто, можно просто воспльзоваться функциями `int()` и `float()`"
   ]
  },
  {
   "cell_type": "code",
   "execution_count": 27,
   "metadata": {},
   "outputs": [
    {
     "name": "stdin",
     "output_type": "stream",
     "text": [
      "Enter a number:  3.4\n"
     ]
    },
    {
     "name": "stdout",
     "output_type": "stream",
     "text": [
      "a = 3.4\n"
     ]
    }
   ],
   "source": [
    "a = input(\"Enter a number: \")\n",
    "print(\"a =\", float(a))\n",
    "# print(\"int(a, base=2) =\", int(a, base=2))\n",
    "# print(\"int(a, base=16) =\", int(a, base=16))"
   ]
  },
  {
   "cell_type": "markdown",
   "metadata": {},
   "source": [
    "# Домашнее задание\n",
    "\n",
    "\n",
    "### Задание 1\n",
    "\n",
    "Вам необходимо написать программу, которая находит длину третьей стороны произвольного треугольника по двум его сторонам и углу между ними. Можно использовать для этого [теорему косинусов](https://ru.wikipedia.org/wiki/%D0%A2%D0%B5%D0%BE%D1%80%D0%B5%D0%BC%D0%B0_%D0%BA%D0%BE%D1%81%D0%B8%D0%BD%D1%83%D1%81%D0%BE%D0%B2).\n",
    "\n",
    "Таким образом, программа должна спрашивать пользователя параметры треугольника: длину первой стороны, длину второй стороны и угол между ними в градусах.\n",
    "\n",
    "\n",
    "### Задание 2\n",
    "\n",
    "Вам необходимо написать программу, которая преобразует градусы Цельсия в [градусы Фаренгейта](https://ru.wikipedia.org/wiki/%D0%93%D1%80%D0%B0%D0%B4%D1%83%D1%81_%D0%A4%D0%B0%D1%80%D0%B5%D0%BD%D0%B3%D0%B5%D0%B9%D1%82%D0%B0).\n",
    "\n",
    "Таким образом, программа должна попросить пользователя ввести число (градусы Цельсия) и выдать результат в виде числа (градусы Фаренгейта)."
   ]
  }
 ],
 "metadata": {
  "kernelspec": {
   "display_name": "Python 3 (ipykernel)",
   "language": "python",
   "name": "python3"
  },
  "language_info": {
   "codemirror_mode": {
    "name": "ipython",
    "version": 3
   },
   "file_extension": ".py",
   "mimetype": "text/x-python",
   "name": "python",
   "nbconvert_exporter": "python",
   "pygments_lexer": "ipython3",
   "version": "3.10.11"
  }
 },
 "nbformat": 4,
 "nbformat_minor": 4
}
